{
  "nbformat": 4,
  "nbformat_minor": 0,
  "metadata": {
    "colab": {
      "provenance": []
    },
    "kernelspec": {
      "name": "python3",
      "display_name": "Python 3"
    },
    "language_info": {
      "name": "python"
    }
  },
  "cells": [
    {
      "cell_type": "code",
      "execution_count": null,
      "metadata": {
        "colab": {
          "base_uri": "https://localhost:8080/"
        },
        "id": "RGmpmgvNvgTP",
        "outputId": "56557fb0-58d2-409d-e03d-fe6d274f8a0d"
      },
      "outputs": [
        {
          "output_type": "stream",
          "name": "stdout",
          "text": [
            "Welcome to Mad Libs! Let's create a fun story.\n",
            "Please enter the following words when prompted:\n",
            "\n",
            "Enter an adjective: hmm\n",
            "Enter a noun: qirat\n",
            "Enter a verb (base form, e.g., 'run'): run\n",
            "Enter an animal: cat\n",
            "Enter an exclamation (e.g., 'Wow', 'Oh no'): wow\n",
            "Enter another adjective: good\n",
            "Enter another noun: kinza\n",
            "Enter another verb (base form): run\n",
            "Enter an adverb (e.g., 'happily', 'quickly'): happliy\n",
            "\n",
            "Your Mad Lib Story:\n",
            "\n",
            "\n",
            "One hmm morning, a qirat decided to run to the park. \n",
            "On the way, it encountered a cat wearing a good hat. \n",
            "\"Wow!\" shouted the cat. \"You're runing all wrong!\"\n",
            "\n",
            "The qirat replied, \"I'm just trying to run like usual!\" \n",
            "Suddenly, they both heard a loud kinza noise from above. \n",
            "They looked up and saw a happliy dancing cloud!\n",
            "\n",
            "They spent the rest of the day runing together, \n",
            "proving that even a qirat and cat can be friends.\n",
            "\n"
          ]
        }
      ],
      "source": [
        "\n",
        "# Welcome message\n",
        "print(\"Welcome to Mad Libs! Let's create a fun story.\")\n",
        "print(\"Please enter the following words when prompted:\\n\")\n",
        "\n",
        "# Collect user inputs\n",
        "adjective1 = input(\"Enter an adjective: \")\n",
        "noun1 = input(\"Enter a noun: \")\n",
        "verb1 = input(\"Enter a verb (base form, e.g., 'run'): \")\n",
        "animal = input(\"Enter an animal: \")\n",
        "exclamation = input(\"Enter an exclamation (e.g., 'Wow', 'Oh no'): \").capitalize()\n",
        "adjective2 = input(\"Enter another adjective: \")\n",
        "noun2 = input(\"Enter another noun: \")\n",
        "verb2 = input(\"Enter another verb (base form): \")\n",
        "adverb = input(\"Enter an adverb (e.g., 'happily', 'quickly'): \")\n",
        "\n",
        "# Story template\n",
        "story = f\"\"\"\n",
        "One {adjective1} morning, a {noun1} decided to {verb1} to the park.\n",
        "On the way, it encountered a {animal} wearing a {adjective2} hat.\n",
        "\"{exclamation}!\" shouted the {animal}. \"You're {verb1}ing all wrong!\"\n",
        "\n",
        "The {noun1} replied, \"I'm just trying to {verb2} like usual!\"\n",
        "Suddenly, they both heard a loud {noun2} noise from above.\n",
        "They looked up and saw a {adverb} dancing cloud!\n",
        "\n",
        "They spent the rest of the day {verb2}ing together,\n",
        "proving that even a {noun1} and {animal} can be friends.\n",
        "\"\"\"\n",
        "\n",
        "# Display the completed story\n",
        "print(\"\\nYour Mad Lib Story:\\n\")\n",
        "print(story)"
      ]
    }
  ]
}