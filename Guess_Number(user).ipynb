{
  "nbformat": 4,
  "nbformat_minor": 0,
  "metadata": {
    "colab": {
      "provenance": []
    },
    "kernelspec": {
      "name": "python3",
      "display_name": "Python 3"
    },
    "language_info": {
      "name": "python"
    }
  },
  "cells": [
    {
      "cell_type": "code",
      "execution_count": null,
      "metadata": {
        "id": "n_A18-hLdFV2"
      },
      "outputs": [],
      "source": [
        "import random\n",
        "print('Welcome to \\\"Number Guessing\\\" Game')\n",
        "\n",
        "number = random.randint(1,50)\n",
        "while True :\n",
        "    guess = int(input('Enter the number from 1 to 50: '))\n",
        "    if guess<number:\n",
        "        print('To low Number')\n",
        "    elif number <guess:\n",
        "        print('To hight number')\n",
        "    else:\n",
        "        print('You win!')\n",
        "        break"
      ]
    }
  ]
}